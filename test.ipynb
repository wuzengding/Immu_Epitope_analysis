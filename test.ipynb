{
 "cells": [
  {
   "cell_type": "code",
   "execution_count": 1,
   "id": "65d95b19-cc4a-4b29-b5f9-b45c87923289",
   "metadata": {},
   "outputs": [],
   "source": [
    "from difflib import SequenceMatcher"
   ]
  },
  {
   "cell_type": "code",
   "execution_count": 24,
   "id": "0627e576-649b-40a3-adba-5f87a254915b",
   "metadata": {},
   "outputs": [
    {
     "name": "stdout",
     "output_type": "stream",
     "text": [
      "0.4444444444444444\n",
      "0.4\n",
      "0.8888888888888888\n",
      "0.9\n",
      "0.9090909090909091\n",
      "0.7777777777777778\n"
     ]
    }
   ],
   "source": [
    "peplist=[(\"SGAENTRSY\",\"LLLSGVVAY\"),(\"ISGAENTRSY\",\"SLLLSGVVAY\"),(\"RSMTVVLYL\",\"RSMTVVPYL\"),(\"RSMTVVLYLT\",\"RSMTVVPYLT\"),(\"SKQATEVLNEY\",\"SKQATEVLNEV\"),(\"SKQTTEVVE\",\"QSKQEVVEA\")]\n",
    "for peptide1,peptide2 in peplist:\n",
    "    print(SequenceMatcher(None,peptide1,peptide2).ratio())"
   ]
  },
  {
   "cell_type": "code",
   "execution_count": 25,
   "id": "8febccde-fb09-4716-b1d7-fa05c47fcad5",
   "metadata": {},
   "outputs": [
    {
     "name": "stdout",
     "output_type": "stream",
     "text": [
      "Ref20001\n"
     ]
    }
   ],
   "source": [
    "a='Var20001'\n",
    "print(a.replace('Var','Ref'))"
   ]
  },
  {
   "cell_type": "code",
   "execution_count": null,
   "id": "12bf7eb3-c99d-4671-a8d4-184c19986547",
   "metadata": {},
   "outputs": [],
   "source": []
  }
 ],
 "metadata": {
  "kernelspec": {
   "display_name": "Python 3 (ipykernel)",
   "language": "python",
   "name": "python3"
  },
  "language_info": {
   "codemirror_mode": {
    "name": "ipython",
    "version": 3
   },
   "file_extension": ".py",
   "mimetype": "text/x-python",
   "name": "python",
   "nbconvert_exporter": "python",
   "pygments_lexer": "ipython3",
   "version": "3.11.4"
  }
 },
 "nbformat": 4,
 "nbformat_minor": 5
}
